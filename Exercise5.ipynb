{
  "cells": [
    {
      "metadata": {},
      "cell_type": "markdown",
      "source": "# Exercise 5. Tensorboard"
    },
    {
      "metadata": {},
      "cell_type": "markdown",
      "source": "### Using Tensorboard\nTensorboard is a popular Deep Learning Training visualization tool. It is part of TensorFlow framework, but can be used from PyTorch as well by using TensorboadX python package. TensorboardX allows PyTorch to write metrics and log information in Tensorboard format.\n\nIn `pytorch_train.py`, we will log metrics to \"magical\" `logs` directory. The content of this special directory is automatically streamed by Azue ML service. The logging into Tensorboard event format is performed by SummaryWriter object:\n```Python\nfrom tensorboardX import SummaryWriter\nwriter = SummaryWriter(f'./logs/{run.id}')\n```\nWithin the script we write more detailed mini-batch loss and accuracy, as well as epoch level accuracy to Tensorboard:\n```Python\nwriter.add_scalar(f'{phase}/Loss', loss.item(), niter)\nwriter.add_scalar(f'{phase}/Epoch_accuracy', epoch_acc, (epoch+1) * len(dataloaders[phase]))\n```\nFinally, to ensure that TensorboardX python package is installed in Python environment during the training run, we add it using pip_packages parameter of the Estimator object:\n```Python\nestimator = PyTorch(...\n                    pip_packages=['tensorboardX']\n                    ...)\n```"
    },
    {
      "metadata": {},
      "cell_type": "markdown",
      "source": "### Installing and launching Tensorboard\nAzure ML SDK provides built-in integration with Tensorboard in package `azureml-contrib-tensorboard`, installed as part of the contrib extras package in prerequisites. In addition, you will need to pip install tensorboard, which we also did as part of the prerequisites.\n\nWhile the run is in progress (or after it has completed), we just need to start Tensorboard with the run as its target, and it will begin streaming logs."
    },
    {
      "metadata": {
        "trusted": false
      },
      "cell_type": "code",
      "source": "from azureml.contrib.tensorboard import Tensorboard\n\n# The Tensorboard constructor takes an array of runs, so be sure and pass it in as a single-element array here\ntb = Tensorboard([run10])\n\n# If successful, start() returns a string with the URI of the instance.\ntb.start()",
      "execution_count": null,
      "outputs": []
    },
    {
      "metadata": {},
      "cell_type": "markdown",
      "source": "### Stop Tensorboard\n\nWhen you're done, make sure to call the `stop()` method of the Tensorboard object, or it will stay running even after your job completes."
    },
    {
      "metadata": {
        "trusted": false
      },
      "cell_type": "code",
      "source": "tb.stop()",
      "execution_count": null,
      "outputs": []
    }
  ],
  "metadata": {
    "kernelspec": {
      "name": "python3",
      "display_name": "Python 3",
      "language": "python"
    },
    "language_info": {
      "mimetype": "text/x-python",
      "nbconvert_exporter": "python",
      "name": "python",
      "file_extension": ".py",
      "version": "3.5.4",
      "pygments_lexer": "ipython3",
      "codemirror_mode": {
        "version": 3,
        "name": "ipython"
      }
    }
  },
  "nbformat": 4,
  "nbformat_minor": 2
}