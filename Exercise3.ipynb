{
  "cells": [
    {
      "metadata": {},
      "cell_type": "markdown",
      "source": "# Exercise 3. Uploading Data to your workspace"
    },
    {
      "metadata": {},
      "cell_type": "markdown",
      "source": "## Upload the Data\nThe dog-breeds images dataset is available on github repository. Here, we'll copy the data to the default datastore of the workspace."
    },
    {
      "metadata": {
        "trusted": false
      },
      "cell_type": "code",
      "source": "import os\nimport urllib\nfrom zipfile import ZipFile\n\n# download data\ndownload_url = 'https://github.com/heatherbshapiro/pycon-canada/raw/master/breeds-10.zip'\ndata_file = './breeds-10.zip'\nurllib.request.urlretrieve(download_url, filename=data_file)\n\n# extract files\nwith ZipFile(data_file, 'r') as zip:\n    print('extracting files...')\n    zip.extractall()\n    print('done')\n    \n# delete zip file\nos.remove(data_file)",
      "execution_count": null,
      "outputs": []
    },
    {
      "metadata": {
        "trusted": false
      },
      "cell_type": "code",
      "source": "ds = ws.get_default_datastore()",
      "execution_count": null,
      "outputs": []
    },
    {
      "metadata": {
        "trusted": false
      },
      "cell_type": "code",
      "source": "ds.upload(src_dir='./breeds-10', target_path='breeds-10')",
      "execution_count": null,
      "outputs": []
    },
    {
      "metadata": {},
      "cell_type": "markdown",
      "source": "Now let's get a reference to the path on the datastore with the training data. We can do so using the `path` method. In the next section, we can then pass this reference to our training script's `--data_dir` argument. We will start with the 10 classes dataset."
    },
    {
      "metadata": {
        "scrolled": true,
        "trusted": false
      },
      "cell_type": "code",
      "source": "path_on_datastore = 'breeds-10'\nds_data = ds.path(path_on_datastore)\nprint(ds_data)",
      "execution_count": null,
      "outputs": []
    }
  ],
  "metadata": {
    "kernelspec": {
      "name": "python3",
      "display_name": "Python 3",
      "language": "python"
    },
    "language_info": {
      "mimetype": "text/x-python",
      "nbconvert_exporter": "python",
      "name": "python",
      "file_extension": ".py",
      "version": "3.5.4",
      "pygments_lexer": "ipython3",
      "codemirror_mode": {
        "version": 3,
        "name": "ipython"
      }
    }
  },
  "nbformat": 4,
  "nbformat_minor": 2
}